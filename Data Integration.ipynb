{
 "cells": [
  {
   "cell_type": "markdown",
   "metadata": {},
   "source": [
    "#Data Parsing, Cleansing and Integration\n",
    "## Task 3\n",
    "#### Student Name: Matthew Bentham\n",
    "#### Student ID: s3920376\n",
    "\n",
    "Date: 28/08/2022\n",
    "\n",
    "Version: 1.0\n",
    "\n",
    "Environment: Python 3 and Jupyter notebook\n",
    "\n",
    "Libraries used: \n",
    "* pandas\n",
    "* re\n",
    "* numpy\n",
    "* datetime\n",
    "* random\n",
    "\n",
    "\n",
    "## Introduction\n",
    "\n",
    "The objective of this task (Task 3) is to combine the data outputted from task 2 of this assement and successfully intergrate at both the schema and data level with data obtained from www.jobhuntlisting.com. To do so the schema of the task 2 dataset will be adopted as the global schema. \n",
    "\n",
    "This process can be brocken down into two steps: \n",
    "\n",
    "1. **Resolving schema level conflicts:** The process and conflicts found are layed out in section 2 of this report.\n",
    "2. **Resolving data level conflicts**: invloves    \n",
    "a) Resolving and complete duplications in unified table     \n",
    "b) Identifying any unique keys for the intergrated data and removing any datapoints that breech these unique contraints\n"
   ]
  },
  {
   "cell_type": "markdown",
   "metadata": {},
   "source": [
    "##  Import libraries "
   ]
  },
  {
   "cell_type": "code",
   "execution_count": 28,
   "metadata": {},
   "outputs": [],
   "source": [
    "# Code to import libraries as you need in this assessment\n",
    "import numpy as np\n",
    "import pandas as pd\n",
    "import datetime\n",
    "import re\n",
    "from random import randint"
   ]
  },
  {
   "cell_type": "markdown",
   "metadata": {},
   "source": [
    "### 1. Examining and loading data\n",
    "Examine \"s3923076_dataset2.csv\" the structure and schema. "
   ]
  },
  {
   "cell_type": "code",
   "execution_count": 29,
   "metadata": {},
   "outputs": [
    {
     "name": "stdout",
     "output_type": "stream",
     "text": [
      "dataset 1:(48244, 11)\n"
     ]
    },
    {
     "data": {
      "text/html": [
       "<div>\n",
       "<style scoped>\n",
       "    .dataframe tbody tr th:only-of-type {\n",
       "        vertical-align: middle;\n",
       "    }\n",
       "\n",
       "    .dataframe tbody tr th {\n",
       "        vertical-align: top;\n",
       "    }\n",
       "\n",
       "    .dataframe thead th {\n",
       "        text-align: right;\n",
       "    }\n",
       "</style>\n",
       "<table border=\"1\" class=\"dataframe\">\n",
       "  <thead>\n",
       "    <tr style=\"text-align: right;\">\n",
       "      <th></th>\n",
       "      <th>Id</th>\n",
       "      <th>Title</th>\n",
       "      <th>Location</th>\n",
       "      <th>Company</th>\n",
       "      <th>ContractType</th>\n",
       "      <th>ContractTime</th>\n",
       "      <th>Category</th>\n",
       "      <th>Salary</th>\n",
       "      <th>OpenDate</th>\n",
       "      <th>CloseDate</th>\n",
       "      <th>SourceName</th>\n",
       "    </tr>\n",
       "  </thead>\n",
       "  <tbody>\n",
       "    <tr>\n",
       "      <th>0</th>\n",
       "      <td>71226442</td>\n",
       "      <td>Accounts assistant  Wilmslow</td>\n",
       "      <td>Stockport</td>\n",
       "      <td>RK Accountancy</td>\n",
       "      <td>full_time</td>\n",
       "      <td>contract</td>\n",
       "      <td>Accounting &amp; Finance Jobs</td>\n",
       "      <td>12960.00</td>\n",
       "      <td>2012-10-29 00:00:00</td>\n",
       "      <td>2013-01-27 00:00:00</td>\n",
       "      <td>fish4.co.uk</td>\n",
       "    </tr>\n",
       "    <tr>\n",
       "      <th>1</th>\n",
       "      <td>69219070</td>\n",
       "      <td>Web Developer ( HTML, CSS, NET )</td>\n",
       "      <td>Bournemouth</td>\n",
       "      <td>IT Executive Recruitment</td>\n",
       "      <td>full_time</td>\n",
       "      <td>permanent</td>\n",
       "      <td>IT Jobs</td>\n",
       "      <td>28500.00</td>\n",
       "      <td>2013-01-05 12:00:00</td>\n",
       "      <td>2013-04-05 12:00:00</td>\n",
       "      <td>fish4.co.uk</td>\n",
       "    </tr>\n",
       "    <tr>\n",
       "      <th>2</th>\n",
       "      <td>69205773</td>\n",
       "      <td>Solutions Architect MS Dynamics CRM</td>\n",
       "      <td>UK</td>\n",
       "      <td>Syntony Search and Selection Ltd</td>\n",
       "      <td>full_time</td>\n",
       "      <td>permanent</td>\n",
       "      <td>IT Jobs</td>\n",
       "      <td>60000.00</td>\n",
       "      <td>2013-10-21 12:00:00</td>\n",
       "      <td>2013-11-20 12:00:00</td>\n",
       "      <td>fish4.co.uk</td>\n",
       "    </tr>\n",
       "    <tr>\n",
       "      <th>3</th>\n",
       "      <td>68509292</td>\n",
       "      <td>Head of Policy and Committee Secretariat</td>\n",
       "      <td>Wales</td>\n",
       "      <td>non-specified</td>\n",
       "      <td>full_time</td>\n",
       "      <td>contract</td>\n",
       "      <td>Healthcare &amp; Nursing Jobs</td>\n",
       "      <td>42558.00</td>\n",
       "      <td>2013-04-18 00:00:00</td>\n",
       "      <td>2013-06-17 00:00:00</td>\n",
       "      <td>fish4.co.uk</td>\n",
       "    </tr>\n",
       "    <tr>\n",
       "      <th>4</th>\n",
       "      <td>62114107</td>\n",
       "      <td>Business Analysts  Manchester, Liverpool, Shef...</td>\n",
       "      <td>London</td>\n",
       "      <td>Additional Resources</td>\n",
       "      <td>full_time</td>\n",
       "      <td>permanent</td>\n",
       "      <td>IT Jobs</td>\n",
       "      <td>45000.00</td>\n",
       "      <td>2012-12-30 12:00:00</td>\n",
       "      <td>2013-02-28 12:00:00</td>\n",
       "      <td>fish4.co.uk</td>\n",
       "    </tr>\n",
       "  </tbody>\n",
       "</table>\n",
       "</div>"
      ],
      "text/plain": [
       "         Id                                              Title     Location  \\\n",
       "0  71226442                       Accounts assistant  Wilmslow    Stockport   \n",
       "1  69219070                   Web Developer ( HTML, CSS, NET )  Bournemouth   \n",
       "2  69205773                Solutions Architect MS Dynamics CRM           UK   \n",
       "3  68509292           Head of Policy and Committee Secretariat        Wales   \n",
       "4  62114107  Business Analysts  Manchester, Liverpool, Shef...       London   \n",
       "\n",
       "                            Company ContractType ContractTime  \\\n",
       "0                    RK Accountancy    full_time     contract   \n",
       "1          IT Executive Recruitment    full_time    permanent   \n",
       "2  Syntony Search and Selection Ltd    full_time    permanent   \n",
       "3                     non-specified    full_time     contract   \n",
       "4              Additional Resources    full_time    permanent   \n",
       "\n",
       "                    Category   Salary             OpenDate  \\\n",
       "0  Accounting & Finance Jobs 12960.00  2012-10-29 00:00:00   \n",
       "1                    IT Jobs 28500.00  2013-01-05 12:00:00   \n",
       "2                    IT Jobs 60000.00  2013-10-21 12:00:00   \n",
       "3  Healthcare & Nursing Jobs 42558.00  2013-04-18 00:00:00   \n",
       "4                    IT Jobs 45000.00  2012-12-30 12:00:00   \n",
       "\n",
       "             CloseDate   SourceName  \n",
       "0  2013-01-27 00:00:00  fish4.co.uk  \n",
       "1  2013-04-05 12:00:00  fish4.co.uk  \n",
       "2  2013-11-20 12:00:00  fish4.co.uk  \n",
       "3  2013-06-17 00:00:00  fish4.co.uk  \n",
       "4  2013-02-28 12:00:00  fish4.co.uk  "
      ]
     },
     "metadata": {},
     "output_type": "display_data"
    },
    {
     "name": "stdout",
     "output_type": "stream",
     "text": [
      "dataset 2:(5000, 9)\n"
     ]
    },
    {
     "data": {
      "text/html": [
       "<div>\n",
       "<style scoped>\n",
       "    .dataframe tbody tr th:only-of-type {\n",
       "        vertical-align: middle;\n",
       "    }\n",
       "\n",
       "    .dataframe tbody tr th {\n",
       "        vertical-align: top;\n",
       "    }\n",
       "\n",
       "    .dataframe thead th {\n",
       "        text-align: right;\n",
       "    }\n",
       "</style>\n",
       "<table border=\"1\" class=\"dataframe\">\n",
       "  <thead>\n",
       "    <tr style=\"text-align: right;\">\n",
       "      <th></th>\n",
       "      <th>Location</th>\n",
       "      <th>Job Title</th>\n",
       "      <th>Monthly Payment</th>\n",
       "      <th>Closing</th>\n",
       "      <th>Category</th>\n",
       "      <th>Type</th>\n",
       "      <th>Opening</th>\n",
       "      <th>Organisation</th>\n",
       "      <th>Full-Time Equivalent (FTE)</th>\n",
       "    </tr>\n",
       "  </thead>\n",
       "  <tbody>\n",
       "    <tr>\n",
       "      <th>0</th>\n",
       "      <td>Berkshire</td>\n",
       "      <td>Lead CRA UK</td>\n",
       "      <td>4583.33</td>\n",
       "      <td>2012-03-08 12:00:00</td>\n",
       "      <td>Health</td>\n",
       "      <td>NaN</td>\n",
       "      <td>2012-01-08 12:00:00</td>\n",
       "      <td>SEC Recruitment</td>\n",
       "      <td>1.00</td>\n",
       "    </tr>\n",
       "    <tr>\n",
       "      <th>1</th>\n",
       "      <td>Bristol</td>\n",
       "      <td>Possession Manager</td>\n",
       "      <td>2812.50</td>\n",
       "      <td>2013-09-06 12:00:00</td>\n",
       "      <td>Engineering</td>\n",
       "      <td>Permanent</td>\n",
       "      <td>2013-08-07 12:00:00</td>\n",
       "      <td>Navartis Limited</td>\n",
       "      <td>1.00</td>\n",
       "    </tr>\n",
       "    <tr>\n",
       "      <th>2</th>\n",
       "      <td>Coventry</td>\n",
       "      <td>NVQ Assessor Banking/Financial Services Salary...</td>\n",
       "      <td>1791.67</td>\n",
       "      <td>2013-05-02 00:00:00</td>\n",
       "      <td>Hospitality</td>\n",
       "      <td>Permanent</td>\n",
       "      <td>2013-02-01 00:00:00</td>\n",
       "      <td>Pertemps</td>\n",
       "      <td>1.00</td>\n",
       "    </tr>\n",
       "    <tr>\n",
       "      <th>3</th>\n",
       "      <td>Poole</td>\n",
       "      <td>HEAD OF CARE (RGN/RMN)  Poole</td>\n",
       "      <td>2916.67</td>\n",
       "      <td>2013-09-24 15:00:00</td>\n",
       "      <td>Health</td>\n",
       "      <td>NaN</td>\n",
       "      <td>2013-07-26 15:00:00</td>\n",
       "      <td>Team 24 Ltd</td>\n",
       "      <td>1.00</td>\n",
       "    </tr>\n",
       "    <tr>\n",
       "      <th>4</th>\n",
       "      <td>Woking</td>\n",
       "      <td>SQL Server DBA</td>\n",
       "      <td>3125.00</td>\n",
       "      <td>2012-12-21 12:00:00</td>\n",
       "      <td>Information Technology</td>\n",
       "      <td>NaN</td>\n",
       "      <td>2012-11-21 12:00:00</td>\n",
       "      <td>Matchtech</td>\n",
       "      <td>1.00</td>\n",
       "    </tr>\n",
       "  </tbody>\n",
       "</table>\n",
       "</div>"
      ],
      "text/plain": [
       "    Location                                          Job Title  \\\n",
       "0  Berkshire                                        Lead CRA UK   \n",
       "1    Bristol                                 Possession Manager   \n",
       "2   Coventry  NVQ Assessor Banking/Financial Services Salary...   \n",
       "3      Poole                      HEAD OF CARE (RGN/RMN)  Poole   \n",
       "4     Woking                                     SQL Server DBA   \n",
       "\n",
       "   Monthly Payment              Closing                Category       Type  \\\n",
       "0          4583.33  2012-03-08 12:00:00                  Health        NaN   \n",
       "1          2812.50  2013-09-06 12:00:00             Engineering  Permanent   \n",
       "2          1791.67  2013-05-02 00:00:00             Hospitality  Permanent   \n",
       "3          2916.67  2013-09-24 15:00:00                  Health        NaN   \n",
       "4          3125.00  2012-12-21 12:00:00  Information Technology        NaN   \n",
       "\n",
       "               Opening      Organisation  Full-Time Equivalent (FTE)  \n",
       "0  2012-01-08 12:00:00   SEC Recruitment                        1.00  \n",
       "1  2013-08-07 12:00:00  Navartis Limited                        1.00  \n",
       "2  2013-02-01 00:00:00          Pertemps                        1.00  \n",
       "3  2013-07-26 15:00:00       Team 24 Ltd                        1.00  \n",
       "4  2012-11-21 12:00:00         Matchtech                        1.00  "
      ]
     },
     "metadata": {},
     "output_type": "display_data"
    }
   ],
   "source": [
    "pd.set_option('display.float_format', '{:.2f}'.format)\n",
    "df1 = pd.read_csv('s3923076_dataset1_solution.csv')\n",
    "df2 = pd.read_csv('s3923076_dataset2.csv')\n",
    "# Display two dataframes together to compare\n",
    "print('dataset 1:' + str(df1.shape))\n",
    "\n",
    "display(df1.head())\n",
    "print('dataset 2:' + str(df2.shape))\n",
    "display(df2.head())"
   ]
  },
  {
   "cell_type": "code",
   "execution_count": 30,
   "metadata": {},
   "outputs": [
    {
     "data": {
      "text/plain": [
       "Location                       object\n",
       "Job Title                      object\n",
       "Monthly Payment               float64\n",
       "Closing                        object\n",
       "Category                       object\n",
       "Type                           object\n",
       "Opening                        object\n",
       "Organisation                   object\n",
       "Full-Time Equivalent (FTE)    float64\n",
       "dtype: object"
      ]
     },
     "execution_count": 30,
     "metadata": {},
     "output_type": "execute_result"
    }
   ],
   "source": [
    "# Check datatypes: \n",
    "df2.dtypes\n"
   ]
  },
  {
   "cell_type": "code",
   "execution_count": 31,
   "metadata": {},
   "outputs": [
    {
     "data": {
      "text/plain": [
       "Location                         0\n",
       "Job Title                        0\n",
       "Monthly Payment                  0\n",
       "Closing                          0\n",
       "Category                         0\n",
       "Type                          1407\n",
       "Opening                          0\n",
       "Organisation                   469\n",
       "Full-Time Equivalent (FTE)       0\n",
       "dtype: int64"
      ]
     },
     "execution_count": 31,
     "metadata": {},
     "output_type": "execute_result"
    }
   ],
   "source": [
    "# Locate missing values:\n",
    "df2.isna().sum()"
   ]
  },
  {
   "cell_type": "markdown",
   "metadata": {},
   "source": [
    "### 2. Resolving schema conflicts:\n",
    "\n",
    "In order to intergrate the two job listing datasets , the schema of dataset 1 will be adopted as the global schema to resolve schema conflicts incrementally. \n",
    "\n",
    "**Global Schema (dataset 1)**:   \n",
    "| Feature | Format and domain values |\n",
    "| --- | --- |\n",
    "| `Id` | 8 digit integer that as an unique identifier for each job. |\n",
    "| `Title` | Variable length string for job title. 'non-specified' when no value is given. |\n",
    "| `Location` | Variable length string for Location. 'non-specified' when no value is given|\n",
    "| `Company` | Variable length string for Company name. 'non-specified' when no value is given |\n",
    "| `ContractType` | String was a fixed value of either ‘full_time’, ‘part_time’ or ‘non-specified’ denoting position type. |\n",
    "| `ContractTime` | String was a fixed value of either  ‘permanent’, ‘contract’ or ‘non-specified’ denoting employment type. |\n",
    "| `Category` | String that fits into the eight job categories  |\n",
    "| `Salary` | non-null float (2d.p) denoting annual salary |\n",
    "| `OpenDate` | Open date of job listing in yyyy-mm-dd hh:mm:ss datetime format |\n",
    "| `CloseDate` | Close date of job listing in yyyy-mm-dd hh:mm:ss datetime format |\n",
    "| `SourceName` | Variable length string for source of data. 'non-specified' when no value is given. |\n",
    "\n",
    "**Schema Conflicts found and resolutions**:   \n",
    "| Feature | Schema conflict | Resolution |\n",
    "| --- | --- | --- |\n",
    "| `Id` | No Id column present | Generate unique ids for job listings in dataset 2 without altering dataset 1|\n",
    "| `Title` | Name of column | Change name to match schema |  \n",
    "| `Company` | Missing values present , Varying column name | convert missing values to 'non-specified' and change name to match schema | \n",
    "| `ContractType` | Dataset 2 does not have ContractType column  | ContractType can be calculated from FTE column |\n",
    "| `ContractTime` | Domain values seems dont meet the global schema requirement | Convert domain values to the correct schema counter-part |\n",
    "| `Category` | Domain values seems dont meet the global schema requirement | Convert domain values to the correct schema counter-part |\n",
    "| `Salary` | Unit values dont meet schema requirments | Need to calculate per annum from monthly values |\n",
    "| `SourceName` | Column is non-existent in dataset2 | treat every row as having a 'non-specified' SourceName|\n",
    "\n"
   ]
  },
  {
   "cell_type": "markdown",
   "metadata": {},
   "source": [
    "### 2.1 Schema conflict: `Id` column\n",
    "\n",
    "It seems as though dataset 2 has no unique identifier for each job listing (Id). In this section , we need to generate an Id for each job listing in dataset 2 that: \n",
    "- Is unique for every indivdual job listing \n",
    "- Doesnt conflict with any Ids in dataset 1 "
   ]
  },
  {
   "cell_type": "code",
   "execution_count": 32,
   "metadata": {},
   "outputs": [],
   "source": [
    "# list of existing Ids in dataset 1\n",
    "existing_ids = df1.Id.to_list()\n",
    "\n",
    "def Generate_ids(dataframe,forbiden_ids):\n",
    "    \"\"\" Function to generate unique 8 digit values for a dataframe that does not conflict with \n",
    "    forbiden_ids\n",
    "    \"\"\"\n",
    "    Id = randint(10000000,99999999) # randomly generates an 8 digit number \n",
    "    Ids = [] \n",
    "    for i in range(0,dataframe.shape[0]): \n",
    "        w= 0\n",
    "        while w == 0: \n",
    "            if Id in forbiden_ids: # add 1 to id until it doesnt conflict with forbiden_ids\n",
    "                Id += 1 \n",
    "            else:\n",
    "                w=1\n",
    "        Ids.append(Id)\n",
    "        Id += 1\n",
    "    dataframe['Id'] = Ids # create Id column "
   ]
  },
  {
   "cell_type": "code",
   "execution_count": 33,
   "metadata": {},
   "outputs": [
    {
     "data": {
      "text/html": [
       "<div>\n",
       "<style scoped>\n",
       "    .dataframe tbody tr th:only-of-type {\n",
       "        vertical-align: middle;\n",
       "    }\n",
       "\n",
       "    .dataframe tbody tr th {\n",
       "        vertical-align: top;\n",
       "    }\n",
       "\n",
       "    .dataframe thead th {\n",
       "        text-align: right;\n",
       "    }\n",
       "</style>\n",
       "<table border=\"1\" class=\"dataframe\">\n",
       "  <thead>\n",
       "    <tr style=\"text-align: right;\">\n",
       "      <th></th>\n",
       "      <th>Location</th>\n",
       "      <th>Job Title</th>\n",
       "      <th>Monthly Payment</th>\n",
       "      <th>Closing</th>\n",
       "      <th>Category</th>\n",
       "      <th>Type</th>\n",
       "      <th>Opening</th>\n",
       "      <th>Organisation</th>\n",
       "      <th>Full-Time Equivalent (FTE)</th>\n",
       "      <th>Id</th>\n",
       "    </tr>\n",
       "  </thead>\n",
       "  <tbody>\n",
       "    <tr>\n",
       "      <th>0</th>\n",
       "      <td>Berkshire</td>\n",
       "      <td>Lead CRA UK</td>\n",
       "      <td>4583.33</td>\n",
       "      <td>2012-03-08 12:00:00</td>\n",
       "      <td>Health</td>\n",
       "      <td>NaN</td>\n",
       "      <td>2012-01-08 12:00:00</td>\n",
       "      <td>SEC Recruitment</td>\n",
       "      <td>1.00</td>\n",
       "      <td>96644269</td>\n",
       "    </tr>\n",
       "    <tr>\n",
       "      <th>1</th>\n",
       "      <td>Bristol</td>\n",
       "      <td>Possession Manager</td>\n",
       "      <td>2812.50</td>\n",
       "      <td>2013-09-06 12:00:00</td>\n",
       "      <td>Engineering</td>\n",
       "      <td>Permanent</td>\n",
       "      <td>2013-08-07 12:00:00</td>\n",
       "      <td>Navartis Limited</td>\n",
       "      <td>1.00</td>\n",
       "      <td>96644270</td>\n",
       "    </tr>\n",
       "    <tr>\n",
       "      <th>2</th>\n",
       "      <td>Coventry</td>\n",
       "      <td>NVQ Assessor Banking/Financial Services Salary...</td>\n",
       "      <td>1791.67</td>\n",
       "      <td>2013-05-02 00:00:00</td>\n",
       "      <td>Hospitality</td>\n",
       "      <td>Permanent</td>\n",
       "      <td>2013-02-01 00:00:00</td>\n",
       "      <td>Pertemps</td>\n",
       "      <td>1.00</td>\n",
       "      <td>96644271</td>\n",
       "    </tr>\n",
       "    <tr>\n",
       "      <th>3</th>\n",
       "      <td>Poole</td>\n",
       "      <td>HEAD OF CARE (RGN/RMN)  Poole</td>\n",
       "      <td>2916.67</td>\n",
       "      <td>2013-09-24 15:00:00</td>\n",
       "      <td>Health</td>\n",
       "      <td>NaN</td>\n",
       "      <td>2013-07-26 15:00:00</td>\n",
       "      <td>Team 24 Ltd</td>\n",
       "      <td>1.00</td>\n",
       "      <td>96644272</td>\n",
       "    </tr>\n",
       "    <tr>\n",
       "      <th>4</th>\n",
       "      <td>Woking</td>\n",
       "      <td>SQL Server DBA</td>\n",
       "      <td>3125.00</td>\n",
       "      <td>2012-12-21 12:00:00</td>\n",
       "      <td>Information Technology</td>\n",
       "      <td>NaN</td>\n",
       "      <td>2012-11-21 12:00:00</td>\n",
       "      <td>Matchtech</td>\n",
       "      <td>1.00</td>\n",
       "      <td>96644273</td>\n",
       "    </tr>\n",
       "  </tbody>\n",
       "</table>\n",
       "</div>"
      ],
      "text/plain": [
       "    Location                                          Job Title  \\\n",
       "0  Berkshire                                        Lead CRA UK   \n",
       "1    Bristol                                 Possession Manager   \n",
       "2   Coventry  NVQ Assessor Banking/Financial Services Salary...   \n",
       "3      Poole                      HEAD OF CARE (RGN/RMN)  Poole   \n",
       "4     Woking                                     SQL Server DBA   \n",
       "\n",
       "   Monthly Payment              Closing                Category       Type  \\\n",
       "0          4583.33  2012-03-08 12:00:00                  Health        NaN   \n",
       "1          2812.50  2013-09-06 12:00:00             Engineering  Permanent   \n",
       "2          1791.67  2013-05-02 00:00:00             Hospitality  Permanent   \n",
       "3          2916.67  2013-09-24 15:00:00                  Health        NaN   \n",
       "4          3125.00  2012-12-21 12:00:00  Information Technology        NaN   \n",
       "\n",
       "               Opening      Organisation  Full-Time Equivalent (FTE)        Id  \n",
       "0  2012-01-08 12:00:00   SEC Recruitment                        1.00  96644269  \n",
       "1  2013-08-07 12:00:00  Navartis Limited                        1.00  96644270  \n",
       "2  2013-02-01 00:00:00          Pertemps                        1.00  96644271  \n",
       "3  2013-07-26 15:00:00       Team 24 Ltd                        1.00  96644272  \n",
       "4  2012-11-21 12:00:00         Matchtech                        1.00  96644273  "
      ]
     },
     "execution_count": 33,
     "metadata": {},
     "output_type": "execute_result"
    }
   ],
   "source": [
    "Generate_ids(df2,existing_ids)\n",
    "df2.head(5)"
   ]
  },
  {
   "cell_type": "markdown",
   "metadata": {},
   "source": [
    "### 2.2 Schema conflict: `Title` vs `Job Title` column\n",
    "\n",
    "Only obvious schema conflict seems to be the differing column names "
   ]
  },
  {
   "cell_type": "code",
   "execution_count": 34,
   "metadata": {},
   "outputs": [
    {
     "name": "stdout",
     "output_type": "stream",
     "text": [
      "Number of missing values: 0\n"
     ]
    }
   ],
   "source": [
    "print('Number of missing values:', df2['Job Title'].isna().sum())"
   ]
  },
  {
   "cell_type": "code",
   "execution_count": 35,
   "metadata": {},
   "outputs": [
    {
     "data": {
      "text/html": [
       "<div>\n",
       "<style scoped>\n",
       "    .dataframe tbody tr th:only-of-type {\n",
       "        vertical-align: middle;\n",
       "    }\n",
       "\n",
       "    .dataframe tbody tr th {\n",
       "        vertical-align: top;\n",
       "    }\n",
       "\n",
       "    .dataframe thead th {\n",
       "        text-align: right;\n",
       "    }\n",
       "</style>\n",
       "<table border=\"1\" class=\"dataframe\">\n",
       "  <thead>\n",
       "    <tr style=\"text-align: right;\">\n",
       "      <th></th>\n",
       "      <th>Location</th>\n",
       "      <th>Title</th>\n",
       "      <th>Monthly Payment</th>\n",
       "      <th>Closing</th>\n",
       "      <th>Category</th>\n",
       "      <th>Type</th>\n",
       "      <th>Opening</th>\n",
       "      <th>Organisation</th>\n",
       "      <th>Full-Time Equivalent (FTE)</th>\n",
       "      <th>Id</th>\n",
       "    </tr>\n",
       "  </thead>\n",
       "  <tbody>\n",
       "    <tr>\n",
       "      <th>0</th>\n",
       "      <td>Berkshire</td>\n",
       "      <td>Lead CRA UK</td>\n",
       "      <td>4583.33</td>\n",
       "      <td>2012-03-08 12:00:00</td>\n",
       "      <td>Health</td>\n",
       "      <td>NaN</td>\n",
       "      <td>2012-01-08 12:00:00</td>\n",
       "      <td>SEC Recruitment</td>\n",
       "      <td>1.00</td>\n",
       "      <td>96644269</td>\n",
       "    </tr>\n",
       "    <tr>\n",
       "      <th>1</th>\n",
       "      <td>Bristol</td>\n",
       "      <td>Possession Manager</td>\n",
       "      <td>2812.50</td>\n",
       "      <td>2013-09-06 12:00:00</td>\n",
       "      <td>Engineering</td>\n",
       "      <td>Permanent</td>\n",
       "      <td>2013-08-07 12:00:00</td>\n",
       "      <td>Navartis Limited</td>\n",
       "      <td>1.00</td>\n",
       "      <td>96644270</td>\n",
       "    </tr>\n",
       "  </tbody>\n",
       "</table>\n",
       "</div>"
      ],
      "text/plain": [
       "    Location               Title  Monthly Payment              Closing  \\\n",
       "0  Berkshire         Lead CRA UK          4583.33  2012-03-08 12:00:00   \n",
       "1    Bristol  Possession Manager          2812.50  2013-09-06 12:00:00   \n",
       "\n",
       "      Category       Type              Opening      Organisation  \\\n",
       "0       Health        NaN  2012-01-08 12:00:00   SEC Recruitment   \n",
       "1  Engineering  Permanent  2013-08-07 12:00:00  Navartis Limited   \n",
       "\n",
       "   Full-Time Equivalent (FTE)        Id  \n",
       "0                        1.00  96644269  \n",
       "1                        1.00  96644270  "
      ]
     },
     "execution_count": 35,
     "metadata": {},
     "output_type": "execute_result"
    }
   ],
   "source": [
    "df2 = df2.rename(columns={'Job Title': 'Title'})\n",
    "df2.head(2)"
   ]
  },
  {
   "cell_type": "markdown",
   "metadata": {},
   "source": [
    "### 2.3 Schema conflict: `Company` vs `Organisation` column\n",
    "Missing values have conflicting domain values specified by the global schema "
   ]
  },
  {
   "cell_type": "code",
   "execution_count": 36,
   "metadata": {},
   "outputs": [
    {
     "name": "stdout",
     "output_type": "stream",
     "text": [
      "Number of missing values: 469\n"
     ]
    }
   ],
   "source": [
    "print('Number of missing values:',df2.Organisation.isna().sum())"
   ]
  },
  {
   "cell_type": "code",
   "execution_count": 37,
   "metadata": {},
   "outputs": [
    {
     "data": {
      "text/html": [
       "<div>\n",
       "<style scoped>\n",
       "    .dataframe tbody tr th:only-of-type {\n",
       "        vertical-align: middle;\n",
       "    }\n",
       "\n",
       "    .dataframe tbody tr th {\n",
       "        vertical-align: top;\n",
       "    }\n",
       "\n",
       "    .dataframe thead th {\n",
       "        text-align: right;\n",
       "    }\n",
       "</style>\n",
       "<table border=\"1\" class=\"dataframe\">\n",
       "  <thead>\n",
       "    <tr style=\"text-align: right;\">\n",
       "      <th></th>\n",
       "      <th>Location</th>\n",
       "      <th>Title</th>\n",
       "      <th>Monthly Payment</th>\n",
       "      <th>Closing</th>\n",
       "      <th>Category</th>\n",
       "      <th>Type</th>\n",
       "      <th>Opening</th>\n",
       "      <th>Company</th>\n",
       "      <th>Full-Time Equivalent (FTE)</th>\n",
       "      <th>Id</th>\n",
       "    </tr>\n",
       "  </thead>\n",
       "  <tbody>\n",
       "    <tr>\n",
       "      <th>0</th>\n",
       "      <td>Berkshire</td>\n",
       "      <td>Lead CRA UK</td>\n",
       "      <td>4583.33</td>\n",
       "      <td>2012-03-08 12:00:00</td>\n",
       "      <td>Health</td>\n",
       "      <td>NaN</td>\n",
       "      <td>2012-01-08 12:00:00</td>\n",
       "      <td>SEC Recruitment</td>\n",
       "      <td>1.00</td>\n",
       "      <td>96644269</td>\n",
       "    </tr>\n",
       "    <tr>\n",
       "      <th>1</th>\n",
       "      <td>Bristol</td>\n",
       "      <td>Possession Manager</td>\n",
       "      <td>2812.50</td>\n",
       "      <td>2013-09-06 12:00:00</td>\n",
       "      <td>Engineering</td>\n",
       "      <td>Permanent</td>\n",
       "      <td>2013-08-07 12:00:00</td>\n",
       "      <td>Navartis Limited</td>\n",
       "      <td>1.00</td>\n",
       "      <td>96644270</td>\n",
       "    </tr>\n",
       "  </tbody>\n",
       "</table>\n",
       "</div>"
      ],
      "text/plain": [
       "    Location               Title  Monthly Payment              Closing  \\\n",
       "0  Berkshire         Lead CRA UK          4583.33  2012-03-08 12:00:00   \n",
       "1    Bristol  Possession Manager          2812.50  2013-09-06 12:00:00   \n",
       "\n",
       "      Category       Type              Opening           Company  \\\n",
       "0       Health        NaN  2012-01-08 12:00:00   SEC Recruitment   \n",
       "1  Engineering  Permanent  2013-08-07 12:00:00  Navartis Limited   \n",
       "\n",
       "   Full-Time Equivalent (FTE)        Id  \n",
       "0                        1.00  96644269  \n",
       "1                        1.00  96644270  "
      ]
     },
     "execution_count": 37,
     "metadata": {},
     "output_type": "execute_result"
    }
   ],
   "source": [
    "# fill missing vales with 'non-specified'\n",
    "df2['Organisation']=df2['Organisation'].fillna('non-specified')\n",
    "#rename column\n",
    "df2 = df2.rename(columns={'Organisation': 'Company'})\n",
    "df2.head(2)"
   ]
  },
  {
   "cell_type": "markdown",
   "metadata": {},
   "source": [
    "### 2.3 Schema conflict: `ContractType` vs `Full-Time Equivalent(FTE)` column\n",
    "Dataset 2 doesnt seem to have any values that correspond to contract type however this can be calculated from the Full-Time Equivalent column. FTE is an employee's scheduled hours divided by the employer's hours for a full-time workweek , there an FTE of 1.0 means the job is full-time and and FTE < 1.0 means the job is part-time. "
   ]
  },
  {
   "cell_type": "code",
   "execution_count": 38,
   "metadata": {},
   "outputs": [
    {
     "data": {
      "text/plain": [
       "1.00    4857\n",
       "0.20      39\n",
       "0.80      36\n",
       "0.60      36\n",
       "0.40      32\n",
       "Name: Full-Time Equivalent (FTE), dtype: int64"
      ]
     },
     "execution_count": 38,
     "metadata": {},
     "output_type": "execute_result"
    }
   ],
   "source": [
    "df2['Full-Time Equivalent (FTE)'].value_counts()"
   ]
  },
  {
   "cell_type": "code",
   "execution_count": 39,
   "metadata": {},
   "outputs": [
    {
     "data": {
      "text/html": [
       "<div>\n",
       "<style scoped>\n",
       "    .dataframe tbody tr th:only-of-type {\n",
       "        vertical-align: middle;\n",
       "    }\n",
       "\n",
       "    .dataframe tbody tr th {\n",
       "        vertical-align: top;\n",
       "    }\n",
       "\n",
       "    .dataframe thead th {\n",
       "        text-align: right;\n",
       "    }\n",
       "</style>\n",
       "<table border=\"1\" class=\"dataframe\">\n",
       "  <thead>\n",
       "    <tr style=\"text-align: right;\">\n",
       "      <th></th>\n",
       "      <th>Location</th>\n",
       "      <th>Title</th>\n",
       "      <th>Monthly Payment</th>\n",
       "      <th>Closing</th>\n",
       "      <th>Category</th>\n",
       "      <th>Type</th>\n",
       "      <th>Opening</th>\n",
       "      <th>Company</th>\n",
       "      <th>ContractType</th>\n",
       "      <th>Id</th>\n",
       "    </tr>\n",
       "  </thead>\n",
       "  <tbody>\n",
       "    <tr>\n",
       "      <th>0</th>\n",
       "      <td>Berkshire</td>\n",
       "      <td>Lead CRA UK</td>\n",
       "      <td>4583.33</td>\n",
       "      <td>2012-03-08 12:00:00</td>\n",
       "      <td>Health</td>\n",
       "      <td>NaN</td>\n",
       "      <td>2012-01-08 12:00:00</td>\n",
       "      <td>SEC Recruitment</td>\n",
       "      <td>full_time</td>\n",
       "      <td>96644269</td>\n",
       "    </tr>\n",
       "    <tr>\n",
       "      <th>1</th>\n",
       "      <td>Bristol</td>\n",
       "      <td>Possession Manager</td>\n",
       "      <td>2812.50</td>\n",
       "      <td>2013-09-06 12:00:00</td>\n",
       "      <td>Engineering</td>\n",
       "      <td>Permanent</td>\n",
       "      <td>2013-08-07 12:00:00</td>\n",
       "      <td>Navartis Limited</td>\n",
       "      <td>full_time</td>\n",
       "      <td>96644270</td>\n",
       "    </tr>\n",
       "  </tbody>\n",
       "</table>\n",
       "</div>"
      ],
      "text/plain": [
       "    Location               Title  Monthly Payment              Closing  \\\n",
       "0  Berkshire         Lead CRA UK          4583.33  2012-03-08 12:00:00   \n",
       "1    Bristol  Possession Manager          2812.50  2013-09-06 12:00:00   \n",
       "\n",
       "      Category       Type              Opening           Company ContractType  \\\n",
       "0       Health        NaN  2012-01-08 12:00:00   SEC Recruitment    full_time   \n",
       "1  Engineering  Permanent  2013-08-07 12:00:00  Navartis Limited    full_time   \n",
       "\n",
       "         Id  \n",
       "0  96644269  \n",
       "1  96644270  "
      ]
     },
     "execution_count": 39,
     "metadata": {},
     "output_type": "execute_result"
    }
   ],
   "source": [
    "def Contracttype(num):\n",
    "    \"\"\"Converts FTE value to its ContractType equivalent \n",
    "    \"\"\"\n",
    "    if num == 1.0:\n",
    "        string = 'full_time'\n",
    "    elif num < 1.0:\n",
    "        string = 'part-time'\n",
    "    else:\n",
    "        string = 'non-specified'\n",
    "    return string\n",
    "# Change domain values to global schema equivalent \n",
    "df2['Full-Time Equivalent (FTE)'] = df2['Full-Time Equivalent (FTE)'].apply(lambda x: Contracttype(x))\n",
    "# Rename column: \n",
    "df2 = df2.rename(columns={'Full-Time Equivalent (FTE)': 'ContractType'})\n",
    "df2.head(2)"
   ]
  },
  {
   "cell_type": "markdown",
   "metadata": {},
   "source": [
    "### 2.4 Schema conflict: `ContractTime` vs `Type` column\n",
    "The type column in dataset 2 contains the domain values: \n",
    "- Permanent \n",
    "- Fixed term contract \n",
    "- NaN  \n",
    "\n",
    "as appose to the values laid out in the global schema: \n",
    "- permanent\n",
    "- contract \n",
    "- non-specified\n"
   ]
  },
  {
   "cell_type": "code",
   "execution_count": 40,
   "metadata": {},
   "outputs": [
    {
     "data": {
      "text/plain": [
       "Permanent              3034\n",
       "Fixed Term Contract     559\n",
       "Name: Type, dtype: int64"
      ]
     },
     "execution_count": 40,
     "metadata": {},
     "output_type": "execute_result"
    }
   ],
   "source": [
    "df2.Type.value_counts()\n"
   ]
  },
  {
   "cell_type": "code",
   "execution_count": 41,
   "metadata": {},
   "outputs": [
    {
     "name": "stdout",
     "output_type": "stream",
     "text": [
      "Number of missing values: 1407\n"
     ]
    }
   ],
   "source": [
    "print('Number of missing values:',df2.Type.isna().sum())"
   ]
  },
  {
   "cell_type": "code",
   "execution_count": 42,
   "metadata": {},
   "outputs": [
    {
     "data": {
      "text/html": [
       "<div>\n",
       "<style scoped>\n",
       "    .dataframe tbody tr th:only-of-type {\n",
       "        vertical-align: middle;\n",
       "    }\n",
       "\n",
       "    .dataframe tbody tr th {\n",
       "        vertical-align: top;\n",
       "    }\n",
       "\n",
       "    .dataframe thead th {\n",
       "        text-align: right;\n",
       "    }\n",
       "</style>\n",
       "<table border=\"1\" class=\"dataframe\">\n",
       "  <thead>\n",
       "    <tr style=\"text-align: right;\">\n",
       "      <th></th>\n",
       "      <th>Location</th>\n",
       "      <th>Title</th>\n",
       "      <th>Monthly Payment</th>\n",
       "      <th>Closing</th>\n",
       "      <th>Category</th>\n",
       "      <th>ContractTime</th>\n",
       "      <th>Opening</th>\n",
       "      <th>Company</th>\n",
       "      <th>ContractType</th>\n",
       "      <th>Id</th>\n",
       "    </tr>\n",
       "  </thead>\n",
       "  <tbody>\n",
       "    <tr>\n",
       "      <th>0</th>\n",
       "      <td>Berkshire</td>\n",
       "      <td>Lead CRA UK</td>\n",
       "      <td>4583.33</td>\n",
       "      <td>2012-03-08 12:00:00</td>\n",
       "      <td>Health</td>\n",
       "      <td>non-specified</td>\n",
       "      <td>2012-01-08 12:00:00</td>\n",
       "      <td>SEC Recruitment</td>\n",
       "      <td>full_time</td>\n",
       "      <td>96644269</td>\n",
       "    </tr>\n",
       "    <tr>\n",
       "      <th>1</th>\n",
       "      <td>Bristol</td>\n",
       "      <td>Possession Manager</td>\n",
       "      <td>2812.50</td>\n",
       "      <td>2013-09-06 12:00:00</td>\n",
       "      <td>Engineering</td>\n",
       "      <td>permanent</td>\n",
       "      <td>2013-08-07 12:00:00</td>\n",
       "      <td>Navartis Limited</td>\n",
       "      <td>full_time</td>\n",
       "      <td>96644270</td>\n",
       "    </tr>\n",
       "  </tbody>\n",
       "</table>\n",
       "</div>"
      ],
      "text/plain": [
       "    Location               Title  Monthly Payment              Closing  \\\n",
       "0  Berkshire         Lead CRA UK          4583.33  2012-03-08 12:00:00   \n",
       "1    Bristol  Possession Manager          2812.50  2013-09-06 12:00:00   \n",
       "\n",
       "      Category   ContractTime              Opening           Company  \\\n",
       "0       Health  non-specified  2012-01-08 12:00:00   SEC Recruitment   \n",
       "1  Engineering      permanent  2013-08-07 12:00:00  Navartis Limited   \n",
       "\n",
       "  ContractType        Id  \n",
       "0    full_time  96644269  \n",
       "1    full_time  96644270  "
      ]
     },
     "execution_count": 42,
     "metadata": {},
     "output_type": "execute_result"
    }
   ],
   "source": [
    "# replace missing values with non-specified \n",
    "df2['Type']=df2['Type'].fillna('non-specified')\n",
    "# replace Permanent and Fixed term Contract with correct values \n",
    "df2=df2.replace('Permanent', 'permanent')\n",
    "df2=df2.replace('Fixed Term Contract', 'contract')\n",
    "# Rename column to match schema \n",
    "df2 = df2.rename(columns={'Type': 'ContractTime'})\n",
    "df2.head(2)"
   ]
  },
  {
   "cell_type": "markdown",
   "metadata": {},
   "source": [
    "### 2.5 Schema conflict: `Category` columns\n",
    "The Category column in dataset 2 contains the domain values: \n",
    "- 'Health'\n",
    "- 'Engineering'\n",
    "- 'Hospitality'\n",
    "- 'Information Technology',\n",
    "- 'Finance'\n",
    "- 'Marketing'\n",
    "- 'Sales' \n",
    "- 'Education'\n",
    "\n",
    "as appose to the values laid out in the global schema: \n",
    "- 'Accounting & Finance Jobs'\n",
    "- 'IT Jobs'\n",
    "- 'Healthcare & Nursing Jobs'\n",
    "- 'PR, Advertising & Marketing Jobs'\n",
    "- 'Engineering Jobs'\n",
    "- 'Hospitality & Catering Jobs'\n",
    "- 'Teaching Jobs',\n",
    "- 'Sales Jobs'"
   ]
  },
  {
   "cell_type": "code",
   "execution_count": 43,
   "metadata": {},
   "outputs": [
    {
     "name": "stdout",
     "output_type": "stream",
     "text": [
      "Number of missing values: 0\n"
     ]
    }
   ],
   "source": [
    "print('Number of missing values:',df2.Category.isna().sum())"
   ]
  },
  {
   "cell_type": "code",
   "execution_count": 44,
   "metadata": {},
   "outputs": [
    {
     "name": "stdout",
     "output_type": "stream",
     "text": [
      "Dataset 2 categories:\n",
      " ['Health', 'Engineering', 'Hospitality', 'Information Technology', 'Finance', 'Marketing', 'Sales', 'Education'] \n",
      "\n",
      "Dataset 1 categories:\n",
      " ['Healthcare & Nursing Jobs', 'Engineering Jobs', 'Hospitality & Catering Jobs', 'IT Jobs', 'Accounting & Finance Jobs', 'PR, Advertising & Marketing Jobs', 'Sales Jobs', 'Teaching Jobs']\n"
     ]
    }
   ],
   "source": [
    "### 2.3 Schema conflict: `Category` columns\n",
    "df1cats = ['Healthcare & Nursing Jobs','Engineering Jobs','Hospitality & Catering Jobs', 'IT Jobs','Accounting & Finance Jobs','PR, Advertising & Marketing Jobs','Sales Jobs'\n",
    "        ,'Teaching Jobs']\n",
    "df2cats = ['Health', 'Engineering', 'Hospitality', 'Information Technology','Finance', 'Marketing', 'Sales', 'Education']\n",
    "print('Dataset 2 categories:\\n',df2cats,'\\n')\n",
    "print('Dataset 1 categories:\\n',df1cats)\n"
   ]
  },
  {
   "cell_type": "code",
   "execution_count": 45,
   "metadata": {},
   "outputs": [
    {
     "name": "stdout",
     "output_type": "stream",
     "text": [
      "IT Jobs                             1251\n",
      "Healthcare & Nursing Jobs            804\n",
      "Engineering Jobs                     732\n",
      "Accounting & Finance Jobs            675\n",
      "Sales Jobs                           517\n",
      "Hospitality & Catering Jobs          436\n",
      "Teaching Jobs                        341\n",
      "PR, Advertising & Marketing Jobs     244\n",
      "Name: Category, dtype: int64\n"
     ]
    }
   ],
   "source": [
    "# Code to fix the conflict\n",
    "for i,cat in enumerate(df2cats):\n",
    "    df1cats[i]\n",
    "    df2=df2.replace(cat, df1cats[i])\n",
    "print(df2.Category.value_counts())"
   ]
  },
  {
   "cell_type": "markdown",
   "metadata": {},
   "source": [
    "### 2.6 Schema conflict: `Salary` vs `Monthly Payments` columns\n",
    "dataset 2 seems to have the job list salary in $/month units as appose to per annum as specified in the global schema "
   ]
  },
  {
   "cell_type": "code",
   "execution_count": 46,
   "metadata": {},
   "outputs": [
    {
     "name": "stdout",
     "output_type": "stream",
     "text": [
      "Number of missing values: 0\n"
     ]
    }
   ],
   "source": [
    "print('Number of missing values:',df2['Monthly Payment'].isna().sum())"
   ]
  },
  {
   "cell_type": "code",
   "execution_count": 47,
   "metadata": {},
   "outputs": [
    {
     "data": {
      "text/html": [
       "<div>\n",
       "<style scoped>\n",
       "    .dataframe tbody tr th:only-of-type {\n",
       "        vertical-align: middle;\n",
       "    }\n",
       "\n",
       "    .dataframe tbody tr th {\n",
       "        vertical-align: top;\n",
       "    }\n",
       "\n",
       "    .dataframe thead th {\n",
       "        text-align: right;\n",
       "    }\n",
       "</style>\n",
       "<table border=\"1\" class=\"dataframe\">\n",
       "  <thead>\n",
       "    <tr style=\"text-align: right;\">\n",
       "      <th></th>\n",
       "      <th>Location</th>\n",
       "      <th>Title</th>\n",
       "      <th>Salary</th>\n",
       "      <th>Closing</th>\n",
       "      <th>Category</th>\n",
       "      <th>ContractTime</th>\n",
       "      <th>Opening</th>\n",
       "      <th>Company</th>\n",
       "      <th>ContractType</th>\n",
       "      <th>Id</th>\n",
       "    </tr>\n",
       "  </thead>\n",
       "  <tbody>\n",
       "    <tr>\n",
       "      <th>0</th>\n",
       "      <td>Berkshire</td>\n",
       "      <td>Lead CRA UK</td>\n",
       "      <td>54999.96</td>\n",
       "      <td>2012-03-08 12:00:00</td>\n",
       "      <td>Healthcare &amp; Nursing Jobs</td>\n",
       "      <td>non-specified</td>\n",
       "      <td>2012-01-08 12:00:00</td>\n",
       "      <td>SEC Recruitment</td>\n",
       "      <td>full_time</td>\n",
       "      <td>96644269</td>\n",
       "    </tr>\n",
       "    <tr>\n",
       "      <th>1</th>\n",
       "      <td>Bristol</td>\n",
       "      <td>Possession Manager</td>\n",
       "      <td>33750.00</td>\n",
       "      <td>2013-09-06 12:00:00</td>\n",
       "      <td>Engineering Jobs</td>\n",
       "      <td>permanent</td>\n",
       "      <td>2013-08-07 12:00:00</td>\n",
       "      <td>Navartis Limited</td>\n",
       "      <td>full_time</td>\n",
       "      <td>96644270</td>\n",
       "    </tr>\n",
       "  </tbody>\n",
       "</table>\n",
       "</div>"
      ],
      "text/plain": [
       "    Location               Title   Salary              Closing  \\\n",
       "0  Berkshire         Lead CRA UK 54999.96  2012-03-08 12:00:00   \n",
       "1    Bristol  Possession Manager 33750.00  2013-09-06 12:00:00   \n",
       "\n",
       "                    Category   ContractTime              Opening  \\\n",
       "0  Healthcare & Nursing Jobs  non-specified  2012-01-08 12:00:00   \n",
       "1           Engineering Jobs      permanent  2013-08-07 12:00:00   \n",
       "\n",
       "            Company ContractType        Id  \n",
       "0   SEC Recruitment    full_time  96644269  \n",
       "1  Navartis Limited    full_time  96644270  "
      ]
     },
     "execution_count": 47,
     "metadata": {},
     "output_type": "execute_result"
    }
   ],
   "source": [
    "# Convert monthly payment to per year:\n",
    "df2['Monthly Payment'] = df2['Monthly Payment'].apply(lambda x: x*12)\n",
    "# Rename column \n",
    "df2 = df2.rename(columns={'Monthly Payment': 'Salary'})\n",
    "df2.head(2)"
   ]
  },
  {
   "cell_type": "markdown",
   "metadata": {},
   "source": [
    "### 2.7 Schema conflict: lack of `SourceName` column\n",
    "\n",
    "All data from dataset 2 comes from an individual source: http://www.jobhuntlisting.com/ , therefore so that the columns match the global schema requirements all SoureName values can be inputted as www.jobhuntlisting.com\n"
   ]
  },
  {
   "cell_type": "code",
   "execution_count": 48,
   "metadata": {},
   "outputs": [
    {
     "data": {
      "text/html": [
       "<div>\n",
       "<style scoped>\n",
       "    .dataframe tbody tr th:only-of-type {\n",
       "        vertical-align: middle;\n",
       "    }\n",
       "\n",
       "    .dataframe tbody tr th {\n",
       "        vertical-align: top;\n",
       "    }\n",
       "\n",
       "    .dataframe thead th {\n",
       "        text-align: right;\n",
       "    }\n",
       "</style>\n",
       "<table border=\"1\" class=\"dataframe\">\n",
       "  <thead>\n",
       "    <tr style=\"text-align: right;\">\n",
       "      <th></th>\n",
       "      <th>Location</th>\n",
       "      <th>Title</th>\n",
       "      <th>Salary</th>\n",
       "      <th>Closing</th>\n",
       "      <th>Category</th>\n",
       "      <th>ContractTime</th>\n",
       "      <th>Opening</th>\n",
       "      <th>Company</th>\n",
       "      <th>ContractType</th>\n",
       "      <th>Id</th>\n",
       "      <th>SourceName</th>\n",
       "    </tr>\n",
       "  </thead>\n",
       "  <tbody>\n",
       "    <tr>\n",
       "      <th>0</th>\n",
       "      <td>Berkshire</td>\n",
       "      <td>Lead CRA UK</td>\n",
       "      <td>54999.96</td>\n",
       "      <td>2012-03-08 12:00:00</td>\n",
       "      <td>Healthcare &amp; Nursing Jobs</td>\n",
       "      <td>non-specified</td>\n",
       "      <td>2012-01-08 12:00:00</td>\n",
       "      <td>SEC Recruitment</td>\n",
       "      <td>full_time</td>\n",
       "      <td>96644269</td>\n",
       "      <td>www.jobhuntlisting.com</td>\n",
       "    </tr>\n",
       "    <tr>\n",
       "      <th>1</th>\n",
       "      <td>Bristol</td>\n",
       "      <td>Possession Manager</td>\n",
       "      <td>33750.00</td>\n",
       "      <td>2013-09-06 12:00:00</td>\n",
       "      <td>Engineering Jobs</td>\n",
       "      <td>permanent</td>\n",
       "      <td>2013-08-07 12:00:00</td>\n",
       "      <td>Navartis Limited</td>\n",
       "      <td>full_time</td>\n",
       "      <td>96644270</td>\n",
       "      <td>www.jobhuntlisting.com</td>\n",
       "    </tr>\n",
       "  </tbody>\n",
       "</table>\n",
       "</div>"
      ],
      "text/plain": [
       "    Location               Title   Salary              Closing  \\\n",
       "0  Berkshire         Lead CRA UK 54999.96  2012-03-08 12:00:00   \n",
       "1    Bristol  Possession Manager 33750.00  2013-09-06 12:00:00   \n",
       "\n",
       "                    Category   ContractTime              Opening  \\\n",
       "0  Healthcare & Nursing Jobs  non-specified  2012-01-08 12:00:00   \n",
       "1           Engineering Jobs      permanent  2013-08-07 12:00:00   \n",
       "\n",
       "            Company ContractType        Id               SourceName  \n",
       "0   SEC Recruitment    full_time  96644269   www.jobhuntlisting.com  \n",
       "1  Navartis Limited    full_time  96644270   www.jobhuntlisting.com  "
      ]
     },
     "execution_count": 48,
     "metadata": {},
     "output_type": "execute_result"
    }
   ],
   "source": [
    "# insert 'non-specified' as all sourcename values for dataset 2\n",
    "df2['SourceName'] = ' www.jobhuntlisting.com'\n",
    "df2.head(2)"
   ]
  },
  {
   "cell_type": "markdown",
   "metadata": {},
   "source": [
    "### 2.8 Schema conflict: rename `Closing` and `Opening` columns"
   ]
  },
  {
   "cell_type": "code",
   "execution_count": 49,
   "metadata": {},
   "outputs": [
    {
     "data": {
      "text/html": [
       "<div>\n",
       "<style scoped>\n",
       "    .dataframe tbody tr th:only-of-type {\n",
       "        vertical-align: middle;\n",
       "    }\n",
       "\n",
       "    .dataframe tbody tr th {\n",
       "        vertical-align: top;\n",
       "    }\n",
       "\n",
       "    .dataframe thead th {\n",
       "        text-align: right;\n",
       "    }\n",
       "</style>\n",
       "<table border=\"1\" class=\"dataframe\">\n",
       "  <thead>\n",
       "    <tr style=\"text-align: right;\">\n",
       "      <th></th>\n",
       "      <th>Id</th>\n",
       "      <th>Title</th>\n",
       "      <th>Location</th>\n",
       "      <th>Company</th>\n",
       "      <th>ContractType</th>\n",
       "      <th>ContractTime</th>\n",
       "      <th>Category</th>\n",
       "      <th>Salary</th>\n",
       "      <th>OpenDate</th>\n",
       "      <th>CloseDate</th>\n",
       "      <th>SourceName</th>\n",
       "    </tr>\n",
       "  </thead>\n",
       "  <tbody>\n",
       "    <tr>\n",
       "      <th>0</th>\n",
       "      <td>96644269</td>\n",
       "      <td>Lead CRA UK</td>\n",
       "      <td>Berkshire</td>\n",
       "      <td>SEC Recruitment</td>\n",
       "      <td>full_time</td>\n",
       "      <td>non-specified</td>\n",
       "      <td>Healthcare &amp; Nursing Jobs</td>\n",
       "      <td>54999.96</td>\n",
       "      <td>2012-01-08 12:00:00</td>\n",
       "      <td>2012-03-08 12:00:00</td>\n",
       "      <td>www.jobhuntlisting.com</td>\n",
       "    </tr>\n",
       "  </tbody>\n",
       "</table>\n",
       "</div>"
      ],
      "text/plain": [
       "         Id        Title   Location          Company ContractType  \\\n",
       "0  96644269  Lead CRA UK  Berkshire  SEC Recruitment    full_time   \n",
       "\n",
       "    ContractTime                   Category   Salary             OpenDate  \\\n",
       "0  non-specified  Healthcare & Nursing Jobs 54999.96  2012-01-08 12:00:00   \n",
       "\n",
       "             CloseDate               SourceName  \n",
       "0  2012-03-08 12:00:00   www.jobhuntlisting.com  "
      ]
     },
     "execution_count": 49,
     "metadata": {},
     "output_type": "execute_result"
    }
   ],
   "source": [
    "df2 = df2.rename(columns={'Opening': 'OpenDate','Closing': 'CloseDate'})\n",
    "#Reorder columns: \n",
    "df2 = df2[['Id', 'Title', 'Location', 'Company', 'ContractType', 'ContractTime',\n",
    "       'Category', 'Salary', 'OpenDate', 'CloseDate', 'SourceName']]\n",
    "df2.head(1)"
   ]
  },
  {
   "cell_type": "markdown",
   "metadata": {},
   "source": [
    "## 3. Merge Data\n",
    "\n",
    "Merging both datasets into one  "
   ]
  },
  {
   "cell_type": "code",
   "execution_count": 50,
   "metadata": {},
   "outputs": [
    {
     "name": "stdout",
     "output_type": "stream",
     "text": [
      "(53244, 11)\n"
     ]
    },
    {
     "data": {
      "text/html": [
       "<div>\n",
       "<style scoped>\n",
       "    .dataframe tbody tr th:only-of-type {\n",
       "        vertical-align: middle;\n",
       "    }\n",
       "\n",
       "    .dataframe tbody tr th {\n",
       "        vertical-align: top;\n",
       "    }\n",
       "\n",
       "    .dataframe thead th {\n",
       "        text-align: right;\n",
       "    }\n",
       "</style>\n",
       "<table border=\"1\" class=\"dataframe\">\n",
       "  <thead>\n",
       "    <tr style=\"text-align: right;\">\n",
       "      <th></th>\n",
       "      <th>Id</th>\n",
       "      <th>Title</th>\n",
       "      <th>Location</th>\n",
       "      <th>Company</th>\n",
       "      <th>ContractType</th>\n",
       "      <th>ContractTime</th>\n",
       "      <th>Category</th>\n",
       "      <th>Salary</th>\n",
       "      <th>OpenDate</th>\n",
       "      <th>CloseDate</th>\n",
       "      <th>SourceName</th>\n",
       "    </tr>\n",
       "  </thead>\n",
       "  <tbody>\n",
       "    <tr>\n",
       "      <th>18892</th>\n",
       "      <td>68667849</td>\n",
       "      <td>Recruitment Consultant / Account Manager NO CO...</td>\n",
       "      <td>Sheffield</td>\n",
       "      <td>Listen Recruitment</td>\n",
       "      <td>non-specified</td>\n",
       "      <td>permanent</td>\n",
       "      <td>Sales Jobs</td>\n",
       "      <td>23000.00</td>\n",
       "      <td>2013-05-08 00:00:00</td>\n",
       "      <td>2013-08-06 00:00:00</td>\n",
       "      <td>totaljobs.com</td>\n",
       "    </tr>\n",
       "    <tr>\n",
       "      <th>71</th>\n",
       "      <td>69216953</td>\n",
       "      <td>Financial Controller  Cash Management</td>\n",
       "      <td>Southampton</td>\n",
       "      <td>Byron Finance</td>\n",
       "      <td>full_time</td>\n",
       "      <td>permanent</td>\n",
       "      <td>Accounting &amp; Finance Jobs</td>\n",
       "      <td>48750.00</td>\n",
       "      <td>2012-06-03 12:00:00</td>\n",
       "      <td>2012-07-03 12:00:00</td>\n",
       "      <td>fish4.co.uk</td>\n",
       "    </tr>\n",
       "  </tbody>\n",
       "</table>\n",
       "</div>"
      ],
      "text/plain": [
       "             Id                                              Title  \\\n",
       "18892  68667849  Recruitment Consultant / Account Manager NO CO...   \n",
       "71     69216953              Financial Controller  Cash Management   \n",
       "\n",
       "          Location             Company   ContractType ContractTime  \\\n",
       "18892    Sheffield  Listen Recruitment  non-specified    permanent   \n",
       "71     Southampton       Byron Finance      full_time    permanent   \n",
       "\n",
       "                        Category   Salary             OpenDate  \\\n",
       "18892                 Sales Jobs 23000.00  2013-05-08 00:00:00   \n",
       "71     Accounting & Finance Jobs 48750.00  2012-06-03 12:00:00   \n",
       "\n",
       "                 CloseDate     SourceName  \n",
       "18892  2013-08-06 00:00:00  totaljobs.com  \n",
       "71     2012-07-03 12:00:00    fish4.co.uk  "
      ]
     },
     "execution_count": 50,
     "metadata": {},
     "output_type": "execute_result"
    }
   ],
   "source": [
    "#Join datasets \n",
    "df = pd.concat([df1,df2])\n",
    "print (df.shape)\n",
    "df.sample(2)"
   ]
  },
  {
   "cell_type": "markdown",
   "metadata": {},
   "source": [
    "## 4. Resolve data-level conflicts\n",
    "- Use Pandas libraries to detect and resolve duplications in the unified table.\n",
    "- Identify a proper global/unique key for the integrated job data and explain your chosen key in the notebook, i.e., why you think the chosen key can be used as a unique identifier of a job\n",
    "advertisement."
   ]
  },
  {
   "cell_type": "code",
   "execution_count": 51,
   "metadata": {},
   "outputs": [
    {
     "name": "stdout",
     "output_type": "stream",
     "text": [
      "There are 0 duplicate records found\n",
      "There are 0 duplicate records found\n"
     ]
    },
    {
     "data": {
      "text/html": [
       "<div>\n",
       "<style scoped>\n",
       "    .dataframe tbody tr th:only-of-type {\n",
       "        vertical-align: middle;\n",
       "    }\n",
       "\n",
       "    .dataframe tbody tr th {\n",
       "        vertical-align: top;\n",
       "    }\n",
       "\n",
       "    .dataframe thead th {\n",
       "        text-align: right;\n",
       "    }\n",
       "</style>\n",
       "<table border=\"1\" class=\"dataframe\">\n",
       "  <thead>\n",
       "    <tr style=\"text-align: right;\">\n",
       "      <th></th>\n",
       "      <th>Id</th>\n",
       "      <th>Title</th>\n",
       "      <th>Location</th>\n",
       "      <th>Company</th>\n",
       "      <th>ContractType</th>\n",
       "      <th>ContractTime</th>\n",
       "      <th>Category</th>\n",
       "      <th>Salary</th>\n",
       "      <th>OpenDate</th>\n",
       "      <th>CloseDate</th>\n",
       "      <th>SourceName</th>\n",
       "    </tr>\n",
       "  </thead>\n",
       "  <tbody>\n",
       "  </tbody>\n",
       "</table>\n",
       "</div>"
      ],
      "text/plain": [
       "Empty DataFrame\n",
       "Columns: [Id, Title, Location, Company, ContractType, ContractTime, Category, Salary, OpenDate, CloseDate, SourceName]\n",
       "Index: []"
      ]
     },
     "execution_count": 51,
     "metadata": {},
     "output_type": "execute_result"
    }
   ],
   "source": [
    "# Check duplications: \n",
    "#Duplications including id: \n",
    "cols = df.columns.to_list()\n",
    "duplicates = df[df.duplicated(cols,keep=False)]\n",
    "print (\"There are \"+ str(len(duplicates)) + \" duplicate records found\")\n",
    "duplicates.sort_values(by=cols).head(10)\n",
    "\n",
    "#Duplicates not inlcuding id (as dataset 2 were given unique ids)\n",
    "cols = [ 'Title', 'Location', 'Company', 'ContractType', 'ContractTime',\n",
    "       'Category', 'Salary', 'OpenDate', 'CloseDate', 'SourceName']\n",
    "duplicates = df[df.duplicated(cols,keep=False)]\n",
    "print (\"There are \"+ str(len(duplicates)) + \" duplicate records found\")\n",
    "duplicates.sort_values(by=cols).head(10)"
   ]
  },
  {
   "cell_type": "markdown",
   "metadata": {},
   "source": [
    "The set attributes that would definte a unique key (aside from job id) for the integrated job data could be: \n",
    "- Category type\n",
    "- Location \n",
    "- Company \n",
    "- Contract Type \n",
    "- Contract Time \n",
    "- Salary \n",
    "- Opendate \n",
    "- CloseDate \n",
    "\n",
    "As the combination of these values should be unique for each job listing. This is becuase values like title are subject to differences based on datasource , for example two of the same jobs may be given different names on different cites even though all intrinsic information of the job listing itself is the same."
   ]
  },
  {
   "cell_type": "code",
   "execution_count": 52,
   "metadata": {},
   "outputs": [
    {
     "name": "stdout",
     "output_type": "stream",
     "text": [
      "There are 66 duplicate records found\n"
     ]
    },
    {
     "data": {
      "text/html": [
       "<div>\n",
       "<style scoped>\n",
       "    .dataframe tbody tr th:only-of-type {\n",
       "        vertical-align: middle;\n",
       "    }\n",
       "\n",
       "    .dataframe tbody tr th {\n",
       "        vertical-align: top;\n",
       "    }\n",
       "\n",
       "    .dataframe thead th {\n",
       "        text-align: right;\n",
       "    }\n",
       "</style>\n",
       "<table border=\"1\" class=\"dataframe\">\n",
       "  <thead>\n",
       "    <tr style=\"text-align: right;\">\n",
       "      <th></th>\n",
       "      <th>Id</th>\n",
       "      <th>Title</th>\n",
       "      <th>Location</th>\n",
       "      <th>Company</th>\n",
       "      <th>ContractType</th>\n",
       "      <th>ContractTime</th>\n",
       "      <th>Category</th>\n",
       "      <th>Salary</th>\n",
       "      <th>OpenDate</th>\n",
       "      <th>CloseDate</th>\n",
       "      <th>SourceName</th>\n",
       "    </tr>\n",
       "  </thead>\n",
       "  <tbody>\n",
       "    <tr>\n",
       "      <th>43091</th>\n",
       "      <td>67101243</td>\n",
       "      <td>Accounting Policy Associate</td>\n",
       "      <td>Gloucestershire</td>\n",
       "      <td>CMC Consulting</td>\n",
       "      <td>full_time</td>\n",
       "      <td>permanent</td>\n",
       "      <td>Accounting &amp; Finance Jobs</td>\n",
       "      <td>37500.00</td>\n",
       "      <td>2013-05-26 00:00:00</td>\n",
       "      <td>2013-06-25 00:00:00</td>\n",
       "      <td>GAAPweb</td>\n",
       "    </tr>\n",
       "    <tr>\n",
       "      <th>4951</th>\n",
       "      <td>96649220</td>\n",
       "      <td>Accounting Policy Associate</td>\n",
       "      <td>Gloucestershire</td>\n",
       "      <td>CMC Consulting</td>\n",
       "      <td>full_time</td>\n",
       "      <td>permanent</td>\n",
       "      <td>Accounting &amp; Finance Jobs</td>\n",
       "      <td>37500.00</td>\n",
       "      <td>2013-05-26 00:00:00</td>\n",
       "      <td>2013-06-25 00:00:00</td>\n",
       "      <td>www.jobhuntlisting.com</td>\n",
       "    </tr>\n",
       "    <tr>\n",
       "      <th>47973</th>\n",
       "      <td>70238578</td>\n",
       "      <td>Contract IT Auditor (6 Months) – Banking</td>\n",
       "      <td>London</td>\n",
       "      <td>Austin Andrew</td>\n",
       "      <td>full_time</td>\n",
       "      <td>permanent</td>\n",
       "      <td>Accounting &amp; Finance Jobs</td>\n",
       "      <td>82500.00</td>\n",
       "      <td>2013-05-28 00:00:00</td>\n",
       "      <td>2013-08-26 00:00:00</td>\n",
       "      <td>careersinaudit.com</td>\n",
       "    </tr>\n",
       "    <tr>\n",
       "      <th>1644</th>\n",
       "      <td>96645913</td>\n",
       "      <td>Contract IT Auditor (6 Months) – Banking</td>\n",
       "      <td>London</td>\n",
       "      <td>Austin Andrew</td>\n",
       "      <td>full_time</td>\n",
       "      <td>permanent</td>\n",
       "      <td>Accounting &amp; Finance Jobs</td>\n",
       "      <td>82500.00</td>\n",
       "      <td>2013-05-28 00:00:00</td>\n",
       "      <td>2013-08-26 00:00:00</td>\n",
       "      <td>www.jobhuntlisting.com</td>\n",
       "    </tr>\n",
       "    <tr>\n",
       "      <th>16564</th>\n",
       "      <td>68384942</td>\n",
       "      <td>Commercial Analyst – Media/Content</td>\n",
       "      <td>London</td>\n",
       "      <td>SAUCE RECRUITMENT</td>\n",
       "      <td>full_time</td>\n",
       "      <td>permanent</td>\n",
       "      <td>Accounting &amp; Finance Jobs</td>\n",
       "      <td>52500.00</td>\n",
       "      <td>2013-04-08 15:00:00</td>\n",
       "      <td>2013-05-08 15:00:00</td>\n",
       "      <td>jobs.guardian.co.uk</td>\n",
       "    </tr>\n",
       "  </tbody>\n",
       "</table>\n",
       "</div>"
      ],
      "text/plain": [
       "             Id                                     Title         Location  \\\n",
       "43091  67101243               Accounting Policy Associate  Gloucestershire   \n",
       "4951   96649220               Accounting Policy Associate  Gloucestershire   \n",
       "47973  70238578  Contract IT Auditor (6 Months) – Banking           London   \n",
       "1644   96645913  Contract IT Auditor (6 Months) – Banking           London   \n",
       "16564  68384942        Commercial Analyst – Media/Content           London   \n",
       "\n",
       "                 Company ContractType ContractTime                   Category  \\\n",
       "43091     CMC Consulting    full_time    permanent  Accounting & Finance Jobs   \n",
       "4951      CMC Consulting    full_time    permanent  Accounting & Finance Jobs   \n",
       "47973      Austin Andrew    full_time    permanent  Accounting & Finance Jobs   \n",
       "1644       Austin Andrew    full_time    permanent  Accounting & Finance Jobs   \n",
       "16564  SAUCE RECRUITMENT    full_time    permanent  Accounting & Finance Jobs   \n",
       "\n",
       "        Salary             OpenDate            CloseDate  \\\n",
       "43091 37500.00  2013-05-26 00:00:00  2013-06-25 00:00:00   \n",
       "4951  37500.00  2013-05-26 00:00:00  2013-06-25 00:00:00   \n",
       "47973 82500.00  2013-05-28 00:00:00  2013-08-26 00:00:00   \n",
       "1644  82500.00  2013-05-28 00:00:00  2013-08-26 00:00:00   \n",
       "16564 52500.00  2013-04-08 15:00:00  2013-05-08 15:00:00   \n",
       "\n",
       "                    SourceName  \n",
       "43091                  GAAPweb  \n",
       "4951    www.jobhuntlisting.com  \n",
       "47973       careersinaudit.com  \n",
       "1644    www.jobhuntlisting.com  \n",
       "16564      jobs.guardian.co.uk  "
      ]
     },
     "execution_count": 52,
     "metadata": {},
     "output_type": "execute_result"
    }
   ],
   "source": [
    "# check duplication\n",
    "cols = ['Category','Location', 'Company', 'ContractType', 'ContractTime',\n",
    "       'Salary', 'OpenDate', 'CloseDate'] # uniquely identified a record.\n",
    "duplicates = df[df.duplicated(cols,keep=False)]\n",
    "print (\"There are \"+ str(len(duplicates)) + \" duplicate records found\")\n",
    "duplicates.sort_values(by=cols).head()"
   ]
  },
  {
   "cell_type": "code",
   "execution_count": 53,
   "metadata": {},
   "outputs": [],
   "source": [
    "df = df.drop_duplicates(cols, keep='first')"
   ]
  },
  {
   "cell_type": "markdown",
   "metadata": {},
   "source": [
    "## 5. Save integrated data\n",
    "\n",
    "Finally, we just save the integrated data into another csv file:"
   ]
  },
  {
   "cell_type": "code",
   "execution_count": 54,
   "metadata": {},
   "outputs": [],
   "source": [
    "df.to_csv(\"s3923076_dataset_integrated.csv\",float_format='%.2f')"
   ]
  },
  {
   "cell_type": "markdown",
   "metadata": {},
   "source": [
    "## Summary of the Assessment Task\n",
    "\n",
    "In summary, in order to successfully merge the two datasets numerous schema level and data level conflicts were detected and resolved to produce a unified table that doesn’t conflict with the global schema. \n",
    "\n",
    "In terms of the global key identified, it’s important to note that what makes two jobs listing unique is very specific to the data’s context. For example, category type and title could vary from source to source even for the same job listing , however they are also the only variables that differentiate two jobs at the same company with the same salary , contract and posting dates, therefore more information is needed on the data to make a better informed descion. \n"
   ]
  }
 ],
 "metadata": {
  "kernelspec": {
   "display_name": "Python 3.8.13 ('Advprograming')",
   "language": "python",
   "name": "python3"
  },
  "language_info": {
   "codemirror_mode": {
    "name": "ipython",
    "version": 3
   },
   "file_extension": ".py",
   "mimetype": "text/x-python",
   "name": "python",
   "nbconvert_exporter": "python",
   "pygments_lexer": "ipython3",
   "version": "3.8.13"
  },
  "orig_nbformat": 4,
  "vscode": {
   "interpreter": {
    "hash": "0df5ee365d35a626221b5001fbdb1e76763ab51facbf8a47e0f27e408b0d7b97"
   }
  }
 },
 "nbformat": 4,
 "nbformat_minor": 2
}
